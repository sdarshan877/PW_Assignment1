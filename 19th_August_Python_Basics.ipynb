{
  "nbformat": 4,
  "nbformat_minor": 0,
  "metadata": {
    "colab": {
      "provenance": []
    },
    "kernelspec": {
      "name": "python3",
      "display_name": "Python 3"
    },
    "language_info": {
      "name": "python"
    }
  },
  "cells": [
    {
      "cell_type": "code",
      "source": [
        "#----------------------- Python Basic Variables ----------------------------"
      ],
      "metadata": {
        "id": "5K5Jz_0hbyuM"
      },
      "execution_count": null,
      "outputs": []
    },
    {
      "cell_type": "code",
      "execution_count": null,
      "metadata": {
        "colab": {
          "base_uri": "https://localhost:8080/",
          "height": 36
        },
        "id": "D70n8nKjHFVn",
        "outputId": "e0f991cf-2f70-4012-a749-53eaa9b7c7e2"
      },
      "outputs": [
        {
          "output_type": "execute_result",
          "data": {
            "text/plain": [
              "'1.  Declare two variables, `x` and `y`, and assign them integer values. Swap the values of these variables without using any temporary variable.'"
            ],
            "application/vnd.google.colaboratory.intrinsic+json": {
              "type": "string"
            }
          },
          "metadata": {},
          "execution_count": 2
        }
      ],
      "source": [
        "# Question 1. ---------------------------------------------------------------------------------------------------------------------------------------------------\n",
        "\n",
        "'''1.  Declare two variables, `x` and `y`, and assign them integer values. Swap the values of these variables without using any temporary variable.'''"
      ]
    },
    {
      "cell_type": "code",
      "source": [
        "#Solution:- there are diffrent ways of swaping"
      ],
      "metadata": {
        "id": "hR8PGc15ID21"
      },
      "execution_count": null,
      "outputs": []
    },
    {
      "cell_type": "code",
      "source": [
        "#1.Method\n",
        "x= int(input(\"value of x:\",))                # I am using input function to get input from user and store it as a value of x and y\n",
        "y= int(input(\"value of y:\",))\n",
        "\n",
        "x,y = y,x                                    # we can simply use this to swap two varibale without using 3rd variable which basically use ROT_TWO in backend\n",
        "\n",
        "print('x: '+ str(x) + ' and Y: '+ str(y))    # we can't concadinate string and integer so i am converting integer into string by using str() function"
      ],
      "metadata": {
        "colab": {
          "base_uri": "https://localhost:8080/"
        },
        "id": "LAOaTSGBITUx",
        "outputId": "4a3f5f7e-ed9a-49ef-ef84-717b6657dc64"
      },
      "execution_count": null,
      "outputs": [
        {
          "output_type": "stream",
          "name": "stdout",
          "text": [
            "value of x:4\n",
            "value of y:5\n",
            "x: 5 and Y: 4\n"
          ]
        }
      ]
    },
    {
      "cell_type": "code",
      "source": [
        "\n",
        "#2. Method-- where we use  addition and subtraction operator\n",
        "\n",
        "x= int(input(\"value of x:\",))\n",
        "y= int(input(\"value of y:\",))\n",
        "\n",
        "x=x+y                                       # Sum of those variables\n",
        "y=x-y                                       # Now the value of x is 9, and if we subtract value of y it will give us 5\n",
        "x=x-y                                       # the value of x is 9 and the value of y is 5 so if subtract. it will give us 4\n",
        "\n",
        "print('x: '+ str(x) + ' and Y: '+ str(y))"
      ],
      "metadata": {
        "colab": {
          "base_uri": "https://localhost:8080/"
        },
        "id": "D2SLf5MwJSJj",
        "outputId": "56053893-16ad-495b-ec07-37553a7d640f"
      },
      "execution_count": null,
      "outputs": [
        {
          "output_type": "stream",
          "name": "stdout",
          "text": [
            "value of x:4\n",
            "value of y:5\n",
            "x: 5 and Y: 4\n"
          ]
        }
      ]
    },
    {
      "cell_type": "code",
      "source": [
        "# Question 2. ---------------------------------------------------------------------------------------------------------------------------------------------------\n",
        "\n",
        "'''2.  Create a program that calculates the area of a rectangle. Take the length and\n",
        " width as inputs from the user and store them in variables. Calculate and\n",
        " display the area.\n",
        "'''"
      ],
      "metadata": {
        "colab": {
          "base_uri": "https://localhost:8080/",
          "height": 36
        },
        "id": "jjwR3HpjVBE4",
        "outputId": "6e268b90-4337-420f-d57c-e728cc45fc80"
      },
      "execution_count": null,
      "outputs": [
        {
          "output_type": "execute_result",
          "data": {
            "text/plain": [
              "'2.  Create a program that calculates the area of a rectangle. Take the length and\\n width as inputs from the user and store them in variables. Calculate and\\n display the area.\\n'"
            ],
            "application/vnd.google.colaboratory.intrinsic+json": {
              "type": "string"
            }
          },
          "metadata": {},
          "execution_count": 6
        }
      ]
    },
    {
      "cell_type": "code",
      "source": [
        "#solution 2\n",
        "x= int(input(\"Please enter the Length:\",))                       # I am using input function to get input from user and store it as a value of x and y\n",
        "y= int(input(\"Please enter the Width:\",))\n",
        "\n",
        "a = x*y                                                          # area of rectangular = length * Width so here x*y and store it as a seperate variable \"a\"\n",
        "\n",
        "print(\"The area of the rectangular is :\"+ str(a))                # using print function to print the area of rectangular as an output\n",
        "                                                                 # I am doing concadination and i can't concadinate string and integer so i am converting integer into string by using str() function\n"
      ],
      "metadata": {
        "colab": {
          "base_uri": "https://localhost:8080/"
        },
        "id": "cR3E2Gs7VUM7",
        "outputId": "dc6015b1-288e-48c8-e8f4-5dcb23c5fb94"
      },
      "execution_count": null,
      "outputs": [
        {
          "output_type": "stream",
          "name": "stdout",
          "text": [
            "Please enter the Length:52\n",
            "Please enter the Width:62\n",
            "The area of the rectangular is :3224\n"
          ]
        }
      ]
    },
    {
      "cell_type": "code",
      "source": [
        "# Question 3. ---------------------------------------------------------------------------------------------------------------------------------------------------\n",
        "\n",
        "'''3.  Write a Python program that converts temperatures from Celsius to\n",
        " Fahrenheit. Take the temperature in Celsius as input, store it in a variable,\n",
        " convert it to Fahrenheit, and display the result.'''"
      ],
      "metadata": {
        "colab": {
          "base_uri": "https://localhost:8080/",
          "height": 53
        },
        "id": "lTYMhXnVV-c5",
        "outputId": "ab91fdab-c2a6-48f3-ac07-9ca4519cdf66"
      },
      "execution_count": null,
      "outputs": [
        {
          "output_type": "execute_result",
          "data": {
            "text/plain": [
              "'3.  Write a Python program that converts temperatures from Celsius to\\n Fahrenheit. Take the temperature in Celsius as input, store it in a variable,\\n convert it to Fahrenheit, and display the result.'"
            ],
            "application/vnd.google.colaboratory.intrinsic+json": {
              "type": "string"
            }
          },
          "metadata": {},
          "execution_count": 8
        }
      ]
    },
    {
      "cell_type": "code",
      "source": [
        "#solution 3\n",
        "tem_c = int(input(\"Please enter the teperature in celsius:\",))\n",
        "\n",
        "tem_f = 9/5*tem_c +32\n",
        "\n",
        "print(\"Temperature is \"+ str(int(tem_f)) + \" degree fahrenheit\")"
      ],
      "metadata": {
        "colab": {
          "base_uri": "https://localhost:8080/"
        },
        "id": "6GoCWnO8WBU5",
        "outputId": "758f30be-1b83-431e-9053-45374dc2c157"
      },
      "execution_count": null,
      "outputs": [
        {
          "output_type": "stream",
          "name": "stdout",
          "text": [
            "Please enter the teperature in celsius:42\n",
            "Temperature is 107 degree fahrenheit\n"
          ]
        }
      ]
    },
    {
      "cell_type": "code",
      "source": [
        "#------------------------  String Based Queations -----------------------------------------"
      ],
      "metadata": {
        "id": "ea9AdKuLZTcT"
      },
      "execution_count": null,
      "outputs": []
    },
    {
      "cell_type": "code",
      "source": [
        "# Question 1. ---------------------------------------------------------------------------------------------------------------------------------------------------\n",
        "\n",
        "'''1.  Write a Python program that takes a string as input and prints the length of the string.'''"
      ],
      "metadata": {
        "colab": {
          "base_uri": "https://localhost:8080/",
          "height": 36
        },
        "id": "ygHxE3NhZht1",
        "outputId": "2661c61f-8e86-4822-970f-3db6ec4203ed"
      },
      "execution_count": null,
      "outputs": [
        {
          "output_type": "execute_result",
          "data": {
            "text/plain": [
              "'1.  Write a Python program that takes a string as input and prints the length of the string.'"
            ],
            "application/vnd.google.colaboratory.intrinsic+json": {
              "type": "string"
            }
          },
          "metadata": {},
          "execution_count": 11
        }
      ]
    },
    {
      "cell_type": "code",
      "source": [
        "a = str(input(\"please enter string only:\",))\n",
        "\n",
        "print(\"the length of the string is:\", len(a))      # the len function is use to find length of the string\n",
        "                                                   # i am not doing concadination so doesn't need to convert into string"
      ],
      "metadata": {
        "colab": {
          "base_uri": "https://localhost:8080/"
        },
        "id": "sUfsrShrcKAW",
        "outputId": "4b9ffbce-afb7-43ef-ead5-bc6c18966508"
      },
      "execution_count": null,
      "outputs": [
        {
          "output_type": "stream",
          "name": "stdout",
          "text": [
            "please enter string only:my name is darshan\n",
            "the length of the string is: 18\n"
          ]
        }
      ]
    },
    {
      "cell_type": "code",
      "source": [
        "# Question 2. ---------------------------------------------------------------------------------------------------------------------------------------------------\n",
        "\n",
        "'''2.  Create a program that takes a sentence from the user and counts the number of vowels (a, e, i, o, u) in the string.'''"
      ],
      "metadata": {
        "colab": {
          "base_uri": "https://localhost:8080/",
          "height": 36
        },
        "id": "5BWnNbGjcTx8",
        "outputId": "d2260038-4965-464e-a4d7-ee101f0af81b"
      },
      "execution_count": null,
      "outputs": [
        {
          "output_type": "execute_result",
          "data": {
            "text/plain": [
              "'2.  Create a program that takes a sentence from the user and counts the number of vowels (a, e, i, o, u) in the string.'"
            ],
            "application/vnd.google.colaboratory.intrinsic+json": {
              "type": "string"
            }
          },
          "metadata": {},
          "execution_count": 13
        }
      ]
    },
    {
      "cell_type": "code",
      "source": [
        "abc= str(input(\"please enter the string:\",))     #I am using count function it will count vowels in a string and add all of them\n",
        "\n",
        "a = abc.count(\"a\")+abc.count(\"e\")+abc.count(\"i\")+abc.count(\"o\")+abc.count(\"u\")+abc.count(\"A\")+abc.count(\"E\")+abc.count(\"I\")+abc.count(\"O\")+abc.count(\"U\")\n",
        "print(\"number of vowels in that is \"+ str(a))"
      ],
      "metadata": {
        "id": "XinQpIF_fX2a",
        "colab": {
          "base_uri": "https://localhost:8080/"
        },
        "outputId": "8f5d7dd5-6614-4e05-a1fe-60b94de2dfdc"
      },
      "execution_count": null,
      "outputs": [
        {
          "output_type": "stream",
          "name": "stdout",
          "text": [
            "please enter the string:jaiganesh\n",
            "number of vowels in that is 4\n"
          ]
        }
      ]
    },
    {
      "cell_type": "code",
      "source": [
        "# Question 3. ---------------------------------------------------------------------------------------------------------------------------------------------------\n",
        "\n",
        "'''3.  Given a string, reverse the order of characters using string slicing and print the reversed string'''"
      ],
      "metadata": {
        "colab": {
          "base_uri": "https://localhost:8080/"
        },
        "id": "6YbpqFec0brS",
        "outputId": "434efd7a-b1bd-425a-dfa9-57a8b265e469"
      },
      "execution_count": null,
      "outputs": [
        {
          "output_type": "execute_result",
          "data": {
            "text/plain": [
              "9"
            ]
          },
          "metadata": {},
          "execution_count": 35
        }
      ]
    },
    {
      "cell_type": "code",
      "source": [
        "xyz =str(input(\"Please enter a string:\",))\n",
        "\n",
        "print(\"Reverse of ther string is \", xyz[::-1]) # here i use slicing technique with reverse jump"
      ],
      "metadata": {
        "colab": {
          "base_uri": "https://localhost:8080/"
        },
        "id": "-_Lm2yJE0fB0",
        "outputId": "91a4c4e7-6290-4feb-beab-8042d075c656"
      },
      "execution_count": null,
      "outputs": [
        {
          "output_type": "stream",
          "name": "stdout",
          "text": [
            "Please enter a string:my name is darshan\n",
            "Reverse of ther string is  nahsrad si eman ym\n"
          ]
        }
      ]
    },
    {
      "cell_type": "code",
      "source": [
        "# Question 3. ---------------------------------------------------------------------------------------------------------------------------------------------------\n",
        "\n",
        "'''3.  Write a program that takes a string as input and checks if it is a palindrome (reads the same forwards and backwards).'''"
      ],
      "metadata": {
        "colab": {
          "base_uri": "https://localhost:8080/",
          "height": 36
        },
        "id": "r7uy3UUC4dCO",
        "outputId": "2fca3fa4-4fc9-478a-9ccc-3444de1e2458"
      },
      "execution_count": null,
      "outputs": [
        {
          "output_type": "execute_result",
          "data": {
            "text/plain": [
              "'3.  Write a program that takes a string as input and checks if it is a palindrome (reads the same forwards and backwards).'"
            ],
            "application/vnd.google.colaboratory.intrinsic+json": {
              "type": "string"
            }
          },
          "metadata": {},
          "execution_count": 37
        }
      ]
    },
    {
      "cell_type": "code",
      "source": [
        "pa = str(input(\"please enter a string:\",))   # i am using slicing technique to see wether it is palindrome or not\n",
        "\n",
        "print(\"is it palindrome:\",pa == pa[::-1])"
      ],
      "metadata": {
        "colab": {
          "base_uri": "https://localhost:8080/"
        },
        "id": "S69EdG4CAKZJ",
        "outputId": "d13edf49-be4d-46a8-854d-5abcdfe0807d"
      },
      "execution_count": null,
      "outputs": [
        {
          "output_type": "stream",
          "name": "stdout",
          "text": [
            "please enter a string:wow\n",
            "is it palindrome: True\n"
          ]
        }
      ]
    },
    {
      "cell_type": "code",
      "source": [
        "# Question 4. ---------------------------------------------------------------------------------------------------------------------------------------------------\n",
        "\n",
        "'''4.   Create a program that takes a string as input and removes all the spaces from it. Print the modified string without spaces.'''"
      ],
      "metadata": {
        "colab": {
          "base_uri": "https://localhost:8080/",
          "height": 36
        },
        "id": "z2v9k91NA2z_",
        "outputId": "8301aa43-bb26-42f3-dd02-978ff6ebee77"
      },
      "execution_count": null,
      "outputs": [
        {
          "output_type": "execute_result",
          "data": {
            "text/plain": [
              "'4.   Create a program that takes a string as input and removes all the spaces from it. Print the modified string without spaces.'"
            ],
            "application/vnd.google.colaboratory.intrinsic+json": {
              "type": "string"
            }
          },
          "metadata": {},
          "execution_count": 42
        }
      ]
    },
    {
      "cell_type": "code",
      "source": [
        "text = str(input(\"please enter the input:\",)) # i am using replace option for this, split and join option can be use for same task\n",
        "\n",
        "new_text = text.replace(\" \",\"\")\n",
        "print(\"Here is the text without space:\",new_text)"
      ],
      "metadata": {
        "colab": {
          "base_uri": "https://localhost:8080/"
        },
        "id": "ZKNq8vJQBkap",
        "outputId": "da29a97a-26d1-4f07-8ea5-075f4cbaf15b"
      },
      "execution_count": null,
      "outputs": [
        {
          "output_type": "stream",
          "name": "stdout",
          "text": [
            "please enter the input:my name is darshan\n",
            "here is the text without space: mynameisdarshan\n"
          ]
        }
      ]
    },
    {
      "cell_type": "code",
      "source": [
        "text = str(input(\"please enter the input:\",)) # split and join\n",
        "\n",
        "new_text = ''.join(text.split())\n",
        "print(\"Here is the text without space:\",new_text)"
      ],
      "metadata": {
        "colab": {
          "base_uri": "https://localhost:8080/"
        },
        "id": "W8ZJpIiJCfaL",
        "outputId": "736b63f8-032b-487f-cc9a-093374b19217"
      },
      "execution_count": null,
      "outputs": [
        {
          "output_type": "stream",
          "name": "stdout",
          "text": [
            "please enter the input:my name is darshan\n",
            "Here is the text without space: mynameisdarshan\n"
          ]
        }
      ]
    },
    {
      "cell_type": "code",
      "source": [],
      "metadata": {
        "id": "F1CZ7AYmDe34"
      },
      "execution_count": null,
      "outputs": []
    }
  ]
}